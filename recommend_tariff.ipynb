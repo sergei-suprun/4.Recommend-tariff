{
 "cells": [
  {
   "cell_type": "markdown",
   "metadata": {},
   "source": [
    "# Рекомендация тарифов"
   ]
  },
  {
   "cell_type": "markdown",
   "metadata": {},
   "source": [
    "**Цели и описание проекта:**\n",
    "\n",
    "Есть данные оператора мобильной связи о клиентах, использующих новые тарифы мобильной связи \"Смарт\" и \"Ультра\" в течение месяца. Задача оператора - перевести клиентов, которые еще пользуются архивными тарифами на один из новых тарифов. Нам нужно построить модель, которая выберет подходящий тариф. Будем решать задачу классификации, обучать модель с учителем.\n",
    "\n",
    "План работы:\n",
    "\n",
    "- разобьем данные на выборки (обучающую, валидационную и тестовую)\n",
    "- исследуем разные модели (дерева решений, случайного леса, логистической регрессии)\n",
    "- проверим модели на тестовой выборке\n",
    "- проверим модель на адекватность\n",
    "\n",
    "В результате проекта мы должны построить модель с максимально большим значением accuracy, не ниже 0.75."
   ]
  },
  {
   "cell_type": "markdown",
   "metadata": {},
   "source": [
    "## Загрузка данных"
   ]
  },
  {
   "cell_type": "code",
   "execution_count": 1,
   "metadata": {},
   "outputs": [],
   "source": [
    "import pandas as pd\n",
    "import numpy as np\n",
    "from sklearn.model_selection import train_test_split\n",
    "from sklearn.tree import DecisionTreeClassifier\n",
    "from sklearn.metrics import accuracy_score\n",
    "from sklearn.ensemble import RandomForestClassifier\n",
    "from sklearn.linear_model import LogisticRegression \n",
    "from sklearn.dummy import DummyClassifier\n",
    "\n",
    "pd.set_option('display.max_columns', None)"
   ]
  },
  {
   "cell_type": "code",
   "execution_count": 2,
   "metadata": {},
   "outputs": [
    {
     "data": {
      "text/html": [
       "<div>\n",
       "<style scoped>\n",
       "    .dataframe tbody tr th:only-of-type {\n",
       "        vertical-align: middle;\n",
       "    }\n",
       "\n",
       "    .dataframe tbody tr th {\n",
       "        vertical-align: top;\n",
       "    }\n",
       "\n",
       "    .dataframe thead th {\n",
       "        text-align: right;\n",
       "    }\n",
       "</style>\n",
       "<table border=\"1\" class=\"dataframe\">\n",
       "  <thead>\n",
       "    <tr style=\"text-align: right;\">\n",
       "      <th></th>\n",
       "      <th>calls</th>\n",
       "      <th>minutes</th>\n",
       "      <th>messages</th>\n",
       "      <th>mb_used</th>\n",
       "      <th>is_ultra</th>\n",
       "    </tr>\n",
       "  </thead>\n",
       "  <tbody>\n",
       "    <tr>\n",
       "      <th>0</th>\n",
       "      <td>40.0</td>\n",
       "      <td>311.90</td>\n",
       "      <td>83.0</td>\n",
       "      <td>19915.42</td>\n",
       "      <td>0</td>\n",
       "    </tr>\n",
       "    <tr>\n",
       "      <th>1</th>\n",
       "      <td>85.0</td>\n",
       "      <td>516.75</td>\n",
       "      <td>56.0</td>\n",
       "      <td>22696.96</td>\n",
       "      <td>0</td>\n",
       "    </tr>\n",
       "    <tr>\n",
       "      <th>2</th>\n",
       "      <td>77.0</td>\n",
       "      <td>467.66</td>\n",
       "      <td>86.0</td>\n",
       "      <td>21060.45</td>\n",
       "      <td>0</td>\n",
       "    </tr>\n",
       "    <tr>\n",
       "      <th>3</th>\n",
       "      <td>106.0</td>\n",
       "      <td>745.53</td>\n",
       "      <td>81.0</td>\n",
       "      <td>8437.39</td>\n",
       "      <td>1</td>\n",
       "    </tr>\n",
       "    <tr>\n",
       "      <th>4</th>\n",
       "      <td>66.0</td>\n",
       "      <td>418.74</td>\n",
       "      <td>1.0</td>\n",
       "      <td>14502.75</td>\n",
       "      <td>0</td>\n",
       "    </tr>\n",
       "  </tbody>\n",
       "</table>\n",
       "</div>"
      ],
      "text/plain": [
       "   calls  minutes  messages   mb_used  is_ultra\n",
       "0   40.0   311.90      83.0  19915.42         0\n",
       "1   85.0   516.75      56.0  22696.96         0\n",
       "2   77.0   467.66      86.0  21060.45         0\n",
       "3  106.0   745.53      81.0   8437.39         1\n",
       "4   66.0   418.74       1.0  14502.75         0"
      ]
     },
     "execution_count": 2,
     "metadata": {},
     "output_type": "execute_result"
    }
   ],
   "source": [
    "try:\n",
    "    df = pd.read_csv('/datasets/users_behavior.csv')\n",
    "except:\n",
    "    df = pd.read_csv('https://code.s3.yandex.net/datasets/users_behavior.csv')\n",
    "\n",
    "df.head()"
   ]
  },
  {
   "cell_type": "code",
   "execution_count": 3,
   "metadata": {},
   "outputs": [
    {
     "data": {
      "text/plain": [
       "0    2229\n",
       "1     985\n",
       "Name: is_ultra, dtype: int64"
      ]
     },
     "execution_count": 3,
     "metadata": {},
     "output_type": "execute_result"
    }
   ],
   "source": [
    "df['is_ultra'].value_counts()"
   ]
  },
  {
   "cell_type": "code",
   "execution_count": 4,
   "metadata": {},
   "outputs": [
    {
     "name": "stdout",
     "output_type": "stream",
     "text": [
      "<class 'pandas.core.frame.DataFrame'>\n",
      "RangeIndex: 3214 entries, 0 to 3213\n",
      "Data columns (total 5 columns):\n",
      " #   Column    Non-Null Count  Dtype  \n",
      "---  ------    --------------  -----  \n",
      " 0   calls     3214 non-null   float64\n",
      " 1   minutes   3214 non-null   float64\n",
      " 2   messages  3214 non-null   float64\n",
      " 3   mb_used   3214 non-null   float64\n",
      " 4   is_ultra  3214 non-null   int64  \n",
      "dtypes: float64(4), int64(1)\n",
      "memory usage: 125.7 KB\n"
     ]
    }
   ],
   "source": [
    "df.info()"
   ]
  },
  {
   "cell_type": "code",
   "execution_count": 5,
   "metadata": {},
   "outputs": [],
   "source": [
    "# поменяем тип данных в столбцах с количеством звонков и сообщений\n",
    "df = df.astype({'calls': np.int64, 'messages': np.int64})"
   ]
  },
  {
   "cell_type": "code",
   "execution_count": 6,
   "metadata": {},
   "outputs": [
    {
     "data": {
      "text/plain": [
       "calls         int64\n",
       "minutes     float64\n",
       "messages      int64\n",
       "mb_used     float64\n",
       "is_ultra      int64\n",
       "dtype: object"
      ]
     },
     "execution_count": 6,
     "metadata": {},
     "output_type": "execute_result"
    }
   ],
   "source": [
    "df.dtypes"
   ]
  },
  {
   "cell_type": "markdown",
   "metadata": {},
   "source": [
    "**Вывод:**\n",
    "- Исходный датасет содержит данные о 3214 клиентах. \n",
    "- Клиентов, использующих тариф ультра почти в два раза меньше, чем тех, кто использует тариф смарт. \n",
    "- Один столбец содержит категориальные значения - вид тарифа, остальные количественные значения - количество звонков, сообщений, минут и мегабайт. \n",
    "- Пропуски не обнаружены. \n",
    "-Мы изменили тип данных на целочисленный в столбцах с количеством звонков и сообщений. "
   ]
  },
  {
   "cell_type": "markdown",
   "metadata": {},
   "source": [
    "## Разделение данных на выборки"
   ]
  },
  {
   "cell_type": "code",
   "execution_count": 7,
   "metadata": {},
   "outputs": [],
   "source": [
    "# Разделим данные на обучающую, тестовую и валидационную выборки в пропорции 60:20:20\n",
    "\n",
    "# Сначала выделим обучающую и создадим промежуточную выборки\n",
    "df_train, df_test1 = train_test_split(df, test_size=0.4,\n",
    "                                      stratify = df['is_ultra'],\n",
    "                                      random_state=12345)\n",
    "\n",
    "#Теперь разделим промежуточную выборку на валидационную и тестовую\n",
    "df_test, df_valid = train_test_split(df_test1, test_size=0.5,\n",
    "                                     stratify = df_test1['is_ultra'],\n",
    "                                     random_state=12345)"
   ]
  },
  {
   "cell_type": "code",
   "execution_count": 8,
   "metadata": {},
   "outputs": [
    {
     "data": {
      "text/plain": [
       "(1928, 5)"
      ]
     },
     "execution_count": 8,
     "metadata": {},
     "output_type": "execute_result"
    }
   ],
   "source": [
    "df_train.shape"
   ]
  },
  {
   "cell_type": "code",
   "execution_count": 9,
   "metadata": {},
   "outputs": [
    {
     "data": {
      "text/plain": [
       "(643, 5)"
      ]
     },
     "execution_count": 9,
     "metadata": {},
     "output_type": "execute_result"
    }
   ],
   "source": [
    "df_test.shape"
   ]
  },
  {
   "cell_type": "code",
   "execution_count": 10,
   "metadata": {},
   "outputs": [
    {
     "data": {
      "text/plain": [
       "(643, 5)"
      ]
     },
     "execution_count": 10,
     "metadata": {},
     "output_type": "execute_result"
    }
   ],
   "source": [
    "df_valid.shape"
   ]
  },
  {
   "cell_type": "code",
   "execution_count": 11,
   "metadata": {},
   "outputs": [],
   "source": [
    "# Создадим переменные с признаками для обучающей выборки\n",
    "features_train = df_train.drop(['is_ultra'], axis=1)\n",
    "target_train = df_train['is_ultra']"
   ]
  },
  {
   "cell_type": "code",
   "execution_count": 12,
   "metadata": {},
   "outputs": [],
   "source": [
    "# Создадим переменные с признаками для валидационной выборки\n",
    "features_valid = df_valid.drop(['is_ultra'], axis=1)\n",
    "target_valid = df_valid['is_ultra']"
   ]
  },
  {
   "cell_type": "code",
   "execution_count": 13,
   "metadata": {},
   "outputs": [],
   "source": [
    "# Создадим переменные с признаками для тестовой выборки\n",
    "features_test = df_test.drop(['is_ultra'], axis=1)\n",
    "target_test = df_test['is_ultra']"
   ]
  },
  {
   "cell_type": "markdown",
   "metadata": {},
   "source": [
    "**Вывод:**\n",
    "На этом шаге мы разбили датасет на три выборки: обучающую, валидационную и тестовую, в пропорции 60/20/20. Случайное число **random_state** будем использовать **12345**. Также мы подготовили переменные с признаками для дальнейшей работы с моделями.\n"
   ]
  },
  {
   "cell_type": "markdown",
   "metadata": {},
   "source": [
    "## Исследование моделей"
   ]
  },
  {
   "cell_type": "markdown",
   "metadata": {},
   "source": [
    "### Дерево решений"
   ]
  },
  {
   "cell_type": "code",
   "execution_count": 14,
   "metadata": {},
   "outputs": [
    {
     "name": "stdout",
     "output_type": "stream",
     "text": [
      "Лучшая модель DTC: DecisionTreeClassifier(max_depth=5, random_state=12345)\n",
      "Accuracy лучшей модели DTC: 0.8118195956454122\n"
     ]
    }
   ],
   "source": [
    "# Создадим и исследуем модель решающее дерево\n",
    "# Выберем лучший показатель Accuracy среди разных зачений глубины дерева\n",
    "best_model_dtc = None\n",
    "best_result_dtc = 0\n",
    "\n",
    "for depth in range(1, 10):\n",
    "    model_dtc = DecisionTreeClassifier(random_state=12345, max_depth=depth)\n",
    "    model_dtc.fit(features_train, target_train)\n",
    "    predictions_dtc = model_dtc.predict(features_valid)\n",
    "    result_dtc = accuracy_score(predictions_dtc, target_valid)\n",
    "    if result_dtc > best_result_dtc:\n",
    "        best_model_dtc = model_dtc\n",
    "        best_result_dtc = result_dtc\n",
    "        \n",
    "print(\"Лучшая модель DTC:\", best_model_dtc)\n",
    "print(\"Accuracy лучшей модели DTC:\", best_result_dtc)"
   ]
  },
  {
   "cell_type": "markdown",
   "metadata": {},
   "source": [
    "**Вывод:**\n",
    "\n",
    "  Лучший показатель *Accuracy* среди моделей решающего дерева -  **0.8118195956454122**. \n",
    "  Глубина лучшей модели решающего дерева *max_depth* равна **5**"
   ]
  },
  {
   "cell_type": "markdown",
   "metadata": {},
   "source": [
    "### Случайный лес"
   ]
  },
  {
   "cell_type": "code",
   "execution_count": 15,
   "metadata": {},
   "outputs": [
    {
     "name": "stdout",
     "output_type": "stream",
     "text": [
      "Лучшая модель RFC: RandomForestClassifier(n_estimators=9, random_state=12345)\n",
      "Accuracy лучшей модели RFC: 0.7947122861586314\n"
     ]
    }
   ],
   "source": [
    "# Создадим и исследуем модель случайный лес\n",
    "# Выберем лучший Accuracy среди разного количества деревьев от 1 до 10\n",
    "best_model_rfc = None\n",
    "best_result_rfc = 0\n",
    "\n",
    "for est in range(1, 11):\n",
    "    model_rfc = RandomForestClassifier(random_state=12345, n_estimators=est)\n",
    "    model_rfc.fit(features_train, target_train)\n",
    "    predictions_rfc = model_rfc.predict(features_valid)\n",
    "    result_rfc = accuracy_score(predictions_rfc, target_valid)\n",
    "    if result_rfc > best_result_rfc:\n",
    "        best_model_rfc = model_rfc\n",
    "        best_result_rfc = result_rfc\n",
    "        \n",
    "print(\"Лучшая модель RFC:\", best_model_rfc)\n",
    "print(\"Accuracy лучшей модели RFC:\", best_result_rfc)   "
   ]
  },
  {
   "cell_type": "markdown",
   "metadata": {},
   "source": [
    "**Вывод:**\n",
    "\n",
    "  Лучший показатель *Accuracy* среди моделей слуайного леса -  **0.7947122861586314**. \n",
    "  Количество деревьев модели случайного леса *n_estimators* равно **9**"
   ]
  },
  {
   "cell_type": "markdown",
   "metadata": {},
   "source": [
    "### Логистическая регрессия"
   ]
  },
  {
   "cell_type": "code",
   "execution_count": 16,
   "metadata": {},
   "outputs": [
    {
     "name": "stdout",
     "output_type": "stream",
     "text": [
      "Accuracy модели LR: 0.7465007776049767\n"
     ]
    }
   ],
   "source": [
    "# Создадим и исследуем модель логистической регрессии\n",
    "# Зададим гиперпараметры solver='lbfgs' и max_iter=1000\n",
    "model_lr = LogisticRegression(random_state=12345, solver='lbfgs',\n",
    "                              max_iter=1000) \n",
    "model_lr.fit(features_train, target_train) \n",
    "accuracy_lr = model_lr.score(features_valid, target_valid)\n",
    "\n",
    "print(\"Accuracy модели LR:\", accuracy_lr)"
   ]
  },
  {
   "cell_type": "markdown",
   "metadata": {},
   "source": [
    "**Вывод:**\n",
    "Показатель *Accuracy* модели логистической регрессии равен **0.7465007776049767**"
   ]
  },
  {
   "cell_type": "markdown",
   "metadata": {},
   "source": [
    "### Вывод\n",
    "\n",
    "По результатам исследования моделей решающего дерева, случайного леса и логистической регрессии, наилучший показатель *Accuracy* **0.8118195956454122** выявлен у модели решающего дерева с параметром глубины *max_depth* равным **5**"
   ]
  },
  {
   "cell_type": "markdown",
   "metadata": {},
   "source": [
    "## Проверка модели на тестовой выборке"
   ]
  },
  {
   "cell_type": "code",
   "execution_count": 17,
   "metadata": {},
   "outputs": [
    {
     "name": "stdout",
     "output_type": "stream",
     "text": [
      "Accuracy модели DTC на тестовой выборке: 0.7869362363919129\n"
     ]
    }
   ],
   "source": [
    "# Проверим модель решающего дерева с наилучшим Accuracy на тестовой выборке\n",
    "model = DecisionTreeClassifier(random_state=12345, max_depth=7) \n",
    "model.fit(features_train, target_train)\n",
    "accuracy_test = model.score(features_test, target_test)\n",
    "\n",
    "print(\"Accuracy модели DTC на тестовой выборке:\", accuracy_test)"
   ]
  },
  {
   "cell_type": "markdown",
   "metadata": {},
   "source": [
    "**Вывод:**\n",
    "Модель решающего дерева, показавшая лучший результат *Accuracy* на валидационной выборке, при проверке на тестовой выборке выдала *Accuracy* **0.7869362363919129**. Это значение соответствует условию данного проекта, оно не ниже 0,75 "
   ]
  },
  {
   "cell_type": "markdown",
   "metadata": {},
   "source": [
    "## Проверка модели на адекватность"
   ]
  },
  {
   "cell_type": "code",
   "execution_count": 18,
   "metadata": {},
   "outputs": [
    {
     "name": "stdout",
     "output_type": "stream",
     "text": [
      "Accuracy константной модели: 0.6936236391912908\n"
     ]
    }
   ],
   "source": [
    "# Для проверки адекватности построим константную модель\n",
    "# с параметром, который предсказывает наиболее часто встречающуюся метку в обучающем наборе.\n",
    "model_dc = DummyClassifier(strategy=\"most_frequent\", random_state=12345)\n",
    "model_dc.fit(features_train, target_train)\n",
    "accuracy_dc = model_dc.score(features_valid, target_valid)\n",
    "\n",
    "print(\"Accuracy константной модели:\", accuracy_dc)"
   ]
  },
  {
   "cell_type": "markdown",
   "metadata": {},
   "source": [
    "**Вывод:**\n",
    "Accuracy константной модели ниже, чем у модели решающего дерева. Значит модель решающего дерева адекватна."
   ]
  },
  {
   "cell_type": "markdown",
   "metadata": {},
   "source": [
    "## Общий вывод\n",
    "\n",
    "- В ходе проекта были исследованы модели решающего дерева, случайного леса и логистической регрессии. Наилучший показатель *Accuracy* **0.8118195956454122** выявлен у модели решающего дерева с параметром глубины *max_depth* равным **5**\n",
    "- Модель решающего дерева, показавшая лучший результат *Accuracy* на валидационной выборке, при проверке на тестовой выборке выдала *Accuracy* **0.7869362363919129**. Это значение соответствует условию данного проекта, оно не ниже 0,75\n",
    "- Проверяя модель на адекватность, мы использовали константную модель. Accuracy константной модели оказалась ниже, чем у модели решающего дерева. Значит модель решающего дерева адекватна."
   ]
  }
 ],
 "metadata": {
  "ExecuteTimeLog": [
   {
    "duration": 430,
    "start_time": "2023-06-13T05:54:24.025Z"
   },
   {
    "duration": 182,
    "start_time": "2023-06-13T05:59:22.720Z"
   },
   {
    "duration": 15,
    "start_time": "2023-06-13T06:00:03.313Z"
   },
   {
    "duration": 1920,
    "start_time": "2023-06-13T06:07:33.976Z"
   },
   {
    "duration": 3,
    "start_time": "2023-06-13T06:11:00.383Z"
   },
   {
    "duration": 46,
    "start_time": "2023-06-13T06:11:01.631Z"
   },
   {
    "duration": 11,
    "start_time": "2023-06-13T06:11:02.891Z"
   },
   {
    "duration": 5,
    "start_time": "2023-06-13T06:12:53.511Z"
   },
   {
    "duration": 12,
    "start_time": "2023-06-13T06:26:26.278Z"
   },
   {
    "duration": 8,
    "start_time": "2023-06-13T06:27:30.475Z"
   },
   {
    "duration": 7,
    "start_time": "2023-06-13T06:28:43.775Z"
   },
   {
    "duration": 12,
    "start_time": "2023-06-13T06:29:03.756Z"
   },
   {
    "duration": 9,
    "start_time": "2023-06-13T06:29:16.144Z"
   },
   {
    "duration": 1191,
    "start_time": "2023-06-13T09:05:53.112Z"
   },
   {
    "duration": 43,
    "start_time": "2023-06-13T09:05:55.080Z"
   },
   {
    "duration": 12,
    "start_time": "2023-06-13T09:05:56.224Z"
   },
   {
    "duration": 5,
    "start_time": "2023-06-13T09:05:59.604Z"
   },
   {
    "duration": 7,
    "start_time": "2023-06-13T09:06:01.632Z"
   },
   {
    "duration": 7,
    "start_time": "2023-06-13T09:14:38.926Z"
   },
   {
    "duration": 62,
    "start_time": "2023-06-13T09:17:59.804Z"
   },
   {
    "duration": 5,
    "start_time": "2023-06-13T09:19:51.933Z"
   },
   {
    "duration": 8,
    "start_time": "2023-06-13T09:20:30.250Z"
   },
   {
    "duration": 7,
    "start_time": "2023-06-13T09:20:31.071Z"
   },
   {
    "duration": 5,
    "start_time": "2023-06-13T09:20:48.904Z"
   },
   {
    "duration": 5,
    "start_time": "2023-06-13T09:20:55.874Z"
   },
   {
    "duration": 14,
    "start_time": "2023-06-13T09:21:11.890Z"
   },
   {
    "duration": 1097,
    "start_time": "2023-06-18T05:03:54.277Z"
   },
   {
    "duration": 125,
    "start_time": "2023-06-18T05:03:55.376Z"
   },
   {
    "duration": 10,
    "start_time": "2023-06-18T05:03:55.503Z"
   },
   {
    "duration": 15,
    "start_time": "2023-06-18T05:03:55.515Z"
   },
   {
    "duration": 24,
    "start_time": "2023-06-18T05:03:55.532Z"
   },
   {
    "duration": 10,
    "start_time": "2023-06-18T05:03:55.557Z"
   },
   {
    "duration": 10,
    "start_time": "2023-06-18T05:03:55.569Z"
   },
   {
    "duration": 5,
    "start_time": "2023-06-18T05:03:55.581Z"
   },
   {
    "duration": 14,
    "start_time": "2023-06-18T05:03:55.588Z"
   },
   {
    "duration": 6,
    "start_time": "2023-06-18T05:16:34.296Z"
   },
   {
    "duration": 4,
    "start_time": "2023-06-18T05:16:35.320Z"
   },
   {
    "duration": 3,
    "start_time": "2023-06-18T05:16:36.257Z"
   },
   {
    "duration": 51,
    "start_time": "2023-06-18T05:22:24.695Z"
   },
   {
    "duration": 52,
    "start_time": "2023-06-18T05:22:24.748Z"
   },
   {
    "duration": 16,
    "start_time": "2023-06-18T05:22:24.801Z"
   },
   {
    "duration": 33,
    "start_time": "2023-06-18T05:22:24.819Z"
   },
   {
    "duration": 30,
    "start_time": "2023-06-18T05:22:24.854Z"
   },
   {
    "duration": 21,
    "start_time": "2023-06-18T05:22:24.886Z"
   },
   {
    "duration": 36,
    "start_time": "2023-06-18T05:22:24.909Z"
   },
   {
    "duration": 39,
    "start_time": "2023-06-18T05:22:24.947Z"
   },
   {
    "duration": 37,
    "start_time": "2023-06-18T05:22:24.988Z"
   },
   {
    "duration": 46,
    "start_time": "2023-06-18T05:22:25.028Z"
   },
   {
    "duration": 31,
    "start_time": "2023-06-18T05:22:25.076Z"
   },
   {
    "duration": 49,
    "start_time": "2023-06-18T05:22:25.109Z"
   },
   {
    "duration": 48,
    "start_time": "2023-06-18T05:26:03.632Z"
   },
   {
    "duration": 69,
    "start_time": "2023-06-18T05:26:21.359Z"
   },
   {
    "duration": 1082,
    "start_time": "2023-06-18T05:27:00.799Z"
   },
   {
    "duration": 181,
    "start_time": "2023-06-18T05:27:25.456Z"
   },
   {
    "duration": 3,
    "start_time": "2023-06-18T05:32:39.671Z"
   },
   {
    "duration": 55,
    "start_time": "2023-06-18T05:32:39.675Z"
   },
   {
    "duration": 10,
    "start_time": "2023-06-18T05:32:39.731Z"
   },
   {
    "duration": 4,
    "start_time": "2023-06-18T05:32:39.742Z"
   },
   {
    "duration": 25,
    "start_time": "2023-06-18T05:32:39.748Z"
   },
   {
    "duration": 18,
    "start_time": "2023-06-18T05:32:39.775Z"
   },
   {
    "duration": 42,
    "start_time": "2023-06-18T05:32:39.795Z"
   },
   {
    "duration": 9,
    "start_time": "2023-06-18T05:32:39.838Z"
   },
   {
    "duration": 8,
    "start_time": "2023-06-18T05:32:39.848Z"
   },
   {
    "duration": 5,
    "start_time": "2023-06-18T05:32:39.858Z"
   },
   {
    "duration": 14,
    "start_time": "2023-06-18T05:32:39.865Z"
   },
   {
    "duration": 6,
    "start_time": "2023-06-18T05:32:39.881Z"
   },
   {
    "duration": 155,
    "start_time": "2023-06-18T05:32:39.888Z"
   },
   {
    "duration": 1018,
    "start_time": "2023-06-18T05:33:11.564Z"
   },
   {
    "duration": 57,
    "start_time": "2023-06-18T05:33:55.797Z"
   },
   {
    "duration": 96,
    "start_time": "2023-06-18T05:41:39.568Z"
   },
   {
    "duration": 14,
    "start_time": "2023-06-18T05:42:34.096Z"
   },
   {
    "duration": 17,
    "start_time": "2023-06-18T05:42:47.737Z"
   },
   {
    "duration": 55,
    "start_time": "2023-06-18T05:43:43.425Z"
   },
   {
    "duration": 55,
    "start_time": "2023-06-18T05:45:45.425Z"
   },
   {
    "duration": 57,
    "start_time": "2023-06-18T05:46:07.092Z"
   },
   {
    "duration": 1142,
    "start_time": "2023-06-19T08:54:03.611Z"
   },
   {
    "duration": 79,
    "start_time": "2023-06-19T08:54:04.755Z"
   },
   {
    "duration": 13,
    "start_time": "2023-06-19T08:54:04.835Z"
   },
   {
    "duration": 16,
    "start_time": "2023-06-19T08:54:04.849Z"
   },
   {
    "duration": 10,
    "start_time": "2023-06-19T08:54:04.867Z"
   },
   {
    "duration": 6,
    "start_time": "2023-06-19T08:54:04.879Z"
   },
   {
    "duration": 5,
    "start_time": "2023-06-19T08:54:04.886Z"
   },
   {
    "duration": 7,
    "start_time": "2023-06-19T08:54:04.892Z"
   },
   {
    "duration": 11,
    "start_time": "2023-06-19T08:54:04.900Z"
   },
   {
    "duration": 28,
    "start_time": "2023-06-19T08:54:04.913Z"
   },
   {
    "duration": 24,
    "start_time": "2023-06-19T08:54:04.943Z"
   },
   {
    "duration": 10,
    "start_time": "2023-06-19T08:54:04.969Z"
   },
   {
    "duration": 67,
    "start_time": "2023-06-19T08:54:04.981Z"
   },
   {
    "duration": 124,
    "start_time": "2023-06-19T08:58:25.213Z"
   },
   {
    "duration": 23,
    "start_time": "2023-06-19T08:59:50.695Z"
   },
   {
    "duration": 63,
    "start_time": "2023-06-19T09:00:26.013Z"
   },
   {
    "duration": 78,
    "start_time": "2023-06-19T09:05:09.093Z"
   },
   {
    "duration": 297,
    "start_time": "2023-06-19T09:10:45.796Z"
   },
   {
    "duration": 928,
    "start_time": "2023-06-19T09:11:06.340Z"
   },
   {
    "duration": 1987,
    "start_time": "2023-06-19T09:11:16.392Z"
   },
   {
    "duration": 61,
    "start_time": "2023-06-19T09:11:25.733Z"
   },
   {
    "duration": 264,
    "start_time": "2023-06-19T09:11:32.237Z"
   },
   {
    "duration": 3,
    "start_time": "2023-06-19T09:20:47.595Z"
   },
   {
    "duration": 60,
    "start_time": "2023-06-19T09:20:47.600Z"
   },
   {
    "duration": 10,
    "start_time": "2023-06-19T09:20:47.661Z"
   },
   {
    "duration": 15,
    "start_time": "2023-06-19T09:20:47.673Z"
   },
   {
    "duration": 25,
    "start_time": "2023-06-19T09:20:47.690Z"
   },
   {
    "duration": 14,
    "start_time": "2023-06-19T09:20:47.717Z"
   },
   {
    "duration": 20,
    "start_time": "2023-06-19T09:20:47.733Z"
   },
   {
    "duration": 20,
    "start_time": "2023-06-19T09:20:47.755Z"
   },
   {
    "duration": 32,
    "start_time": "2023-06-19T09:20:47.777Z"
   },
   {
    "duration": 35,
    "start_time": "2023-06-19T09:20:47.811Z"
   },
   {
    "duration": 18,
    "start_time": "2023-06-19T09:20:47.848Z"
   },
   {
    "duration": 33,
    "start_time": "2023-06-19T09:20:47.868Z"
   },
   {
    "duration": 89,
    "start_time": "2023-06-19T09:20:47.903Z"
   },
   {
    "duration": 267,
    "start_time": "2023-06-19T09:20:47.995Z"
   },
   {
    "duration": 71,
    "start_time": "2023-06-19T09:34:28.372Z"
   },
   {
    "duration": 79,
    "start_time": "2023-06-19T09:34:44.683Z"
   },
   {
    "duration": 27,
    "start_time": "2023-06-19T09:39:02.498Z"
   },
   {
    "duration": 25,
    "start_time": "2023-06-19T09:39:22.030Z"
   },
   {
    "duration": 13,
    "start_time": "2023-06-19T09:39:41.838Z"
   },
   {
    "duration": 28,
    "start_time": "2023-06-19T09:39:46.688Z"
   },
   {
    "duration": 30,
    "start_time": "2023-06-19T09:44:23.405Z"
   },
   {
    "duration": 12,
    "start_time": "2023-06-19T09:56:08.496Z"
   },
   {
    "duration": 46,
    "start_time": "2023-06-19T09:59:29.896Z"
   },
   {
    "duration": 43,
    "start_time": "2023-06-19T10:00:18.155Z"
   },
   {
    "duration": 18,
    "start_time": "2023-06-19T10:01:40.915Z"
   },
   {
    "duration": 53,
    "start_time": "2023-06-19T10:01:43.102Z"
   },
   {
    "duration": 27,
    "start_time": "2023-06-19T10:07:01.318Z"
   },
   {
    "duration": 25,
    "start_time": "2023-06-19T10:07:19.088Z"
   },
   {
    "duration": 14,
    "start_time": "2023-06-19T10:07:48.630Z"
   },
   {
    "duration": 12,
    "start_time": "2023-06-19T10:09:05.086Z"
   },
   {
    "duration": 30,
    "start_time": "2023-06-19T10:10:28.424Z"
   },
   {
    "duration": 4,
    "start_time": "2023-06-19T10:10:56.498Z"
   },
   {
    "duration": 37,
    "start_time": "2023-06-19T10:10:56.513Z"
   },
   {
    "duration": 11,
    "start_time": "2023-06-19T10:10:56.552Z"
   },
   {
    "duration": 8,
    "start_time": "2023-06-19T10:10:56.564Z"
   },
   {
    "duration": 16,
    "start_time": "2023-06-19T10:10:56.573Z"
   },
   {
    "duration": 13,
    "start_time": "2023-06-19T10:10:56.592Z"
   },
   {
    "duration": 4,
    "start_time": "2023-06-19T10:10:56.607Z"
   },
   {
    "duration": 9,
    "start_time": "2023-06-19T10:10:56.612Z"
   },
   {
    "duration": 15,
    "start_time": "2023-06-19T10:10:56.623Z"
   },
   {
    "duration": 16,
    "start_time": "2023-06-19T10:10:56.639Z"
   },
   {
    "duration": 9,
    "start_time": "2023-06-19T10:10:56.657Z"
   },
   {
    "duration": 8,
    "start_time": "2023-06-19T10:10:56.668Z"
   },
   {
    "duration": 62,
    "start_time": "2023-06-19T10:10:56.677Z"
   },
   {
    "duration": 266,
    "start_time": "2023-06-19T10:10:56.740Z"
   },
   {
    "duration": 27,
    "start_time": "2023-06-19T10:10:57.008Z"
   },
   {
    "duration": 30,
    "start_time": "2023-06-19T10:10:57.037Z"
   },
   {
    "duration": 45,
    "start_time": "2023-06-19T10:10:57.069Z"
   },
   {
    "duration": 47,
    "start_time": "2023-06-19T10:10:57.115Z"
   },
   {
    "duration": 14,
    "start_time": "2023-06-19T10:11:40.552Z"
   },
   {
    "duration": 1195,
    "start_time": "2023-06-24T15:02:30.253Z"
   },
   {
    "duration": 76,
    "start_time": "2023-06-24T15:02:31.450Z"
   },
   {
    "duration": 14,
    "start_time": "2023-06-24T15:02:31.527Z"
   },
   {
    "duration": 29,
    "start_time": "2023-06-24T15:02:31.544Z"
   },
   {
    "duration": 36,
    "start_time": "2023-06-24T15:02:31.575Z"
   },
   {
    "duration": 34,
    "start_time": "2023-06-24T15:02:31.613Z"
   },
   {
    "duration": 38,
    "start_time": "2023-06-24T15:02:31.649Z"
   },
   {
    "duration": 111,
    "start_time": "2023-06-24T15:02:31.689Z"
   },
   {
    "duration": 70,
    "start_time": "2023-06-24T15:02:31.802Z"
   },
   {
    "duration": 61,
    "start_time": "2023-06-24T15:02:31.875Z"
   },
   {
    "duration": 35,
    "start_time": "2023-06-24T15:02:31.937Z"
   },
   {
    "duration": 35,
    "start_time": "2023-06-24T15:02:31.974Z"
   },
   {
    "duration": 112,
    "start_time": "2023-06-24T15:02:32.010Z"
   },
   {
    "duration": 288,
    "start_time": "2023-06-24T15:02:32.124Z"
   },
   {
    "duration": 24,
    "start_time": "2023-06-24T15:02:32.414Z"
   },
   {
    "duration": 26,
    "start_time": "2023-06-24T15:02:32.440Z"
   },
   {
    "duration": 111,
    "start_time": "2023-06-24T15:02:32.467Z"
   },
   {
    "duration": 3,
    "start_time": "2023-06-24T15:03:06.168Z"
   },
   {
    "duration": 60,
    "start_time": "2023-06-24T15:03:06.173Z"
   },
   {
    "duration": 11,
    "start_time": "2023-06-24T15:03:06.235Z"
   },
   {
    "duration": 37,
    "start_time": "2023-06-24T15:03:06.248Z"
   },
   {
    "duration": 22,
    "start_time": "2023-06-24T15:03:06.287Z"
   },
   {
    "duration": 14,
    "start_time": "2023-06-24T15:03:06.311Z"
   },
   {
    "duration": 9,
    "start_time": "2023-06-24T15:03:06.326Z"
   },
   {
    "duration": 9,
    "start_time": "2023-06-24T15:03:06.336Z"
   },
   {
    "duration": 15,
    "start_time": "2023-06-24T15:03:06.347Z"
   },
   {
    "duration": 30,
    "start_time": "2023-06-24T15:03:06.364Z"
   },
   {
    "duration": 17,
    "start_time": "2023-06-24T15:03:06.395Z"
   },
   {
    "duration": 13,
    "start_time": "2023-06-24T15:03:06.413Z"
   },
   {
    "duration": 67,
    "start_time": "2023-06-24T15:03:06.428Z"
   },
   {
    "duration": 264,
    "start_time": "2023-06-24T15:03:06.497Z"
   },
   {
    "duration": 26,
    "start_time": "2023-06-24T15:03:06.763Z"
   },
   {
    "duration": 14,
    "start_time": "2023-06-24T15:03:06.791Z"
   },
   {
    "duration": 6,
    "start_time": "2023-06-24T15:03:06.807Z"
   },
   {
    "duration": 1083,
    "start_time": "2023-06-24T15:14:05.489Z"
   },
   {
    "duration": 42,
    "start_time": "2023-06-24T15:14:06.574Z"
   },
   {
    "duration": 11,
    "start_time": "2023-06-24T15:14:06.618Z"
   },
   {
    "duration": 16,
    "start_time": "2023-06-24T15:14:06.631Z"
   },
   {
    "duration": 25,
    "start_time": "2023-06-24T15:14:06.650Z"
   },
   {
    "duration": 15,
    "start_time": "2023-06-24T15:14:06.677Z"
   },
   {
    "duration": 34,
    "start_time": "2023-06-24T15:14:06.693Z"
   },
   {
    "duration": 18,
    "start_time": "2023-06-24T15:14:06.728Z"
   },
   {
    "duration": 16,
    "start_time": "2023-06-24T15:14:06.747Z"
   },
   {
    "duration": 19,
    "start_time": "2023-06-24T15:14:06.765Z"
   },
   {
    "duration": 24,
    "start_time": "2023-06-24T15:14:06.785Z"
   },
   {
    "duration": 10,
    "start_time": "2023-06-24T15:14:06.810Z"
   },
   {
    "duration": 62,
    "start_time": "2023-06-24T15:14:06.822Z"
   },
   {
    "duration": 268,
    "start_time": "2023-06-24T15:14:06.886Z"
   },
   {
    "duration": 24,
    "start_time": "2023-06-24T15:14:07.157Z"
   },
   {
    "duration": 12,
    "start_time": "2023-06-24T15:14:07.183Z"
   },
   {
    "duration": 23,
    "start_time": "2023-06-24T15:14:07.197Z"
   },
   {
    "duration": 901,
    "start_time": "2023-06-24T17:08:21.749Z"
   },
   {
    "duration": 132,
    "start_time": "2023-06-24T17:08:22.652Z"
   },
   {
    "duration": 9,
    "start_time": "2023-06-24T17:08:22.786Z"
   },
   {
    "duration": 8,
    "start_time": "2023-06-24T17:08:22.797Z"
   },
   {
    "duration": 11,
    "start_time": "2023-06-24T17:08:22.807Z"
   },
   {
    "duration": 6,
    "start_time": "2023-06-24T17:08:22.820Z"
   },
   {
    "duration": 22,
    "start_time": "2023-06-24T17:08:22.828Z"
   },
   {
    "duration": 14,
    "start_time": "2023-06-24T17:08:22.852Z"
   },
   {
    "duration": 12,
    "start_time": "2023-06-24T17:08:22.867Z"
   },
   {
    "duration": 8,
    "start_time": "2023-06-24T17:08:22.881Z"
   },
   {
    "duration": 6,
    "start_time": "2023-06-24T17:08:22.890Z"
   },
   {
    "duration": 16,
    "start_time": "2023-06-24T17:08:22.898Z"
   },
   {
    "duration": 67,
    "start_time": "2023-06-24T17:08:22.916Z"
   },
   {
    "duration": 263,
    "start_time": "2023-06-24T17:08:22.985Z"
   },
   {
    "duration": 20,
    "start_time": "2023-06-24T17:08:23.249Z"
   },
   {
    "duration": 14,
    "start_time": "2023-06-24T17:08:23.270Z"
   },
   {
    "duration": 5,
    "start_time": "2023-06-24T17:08:23.286Z"
   },
   {
    "duration": 1216,
    "start_time": "2023-06-26T06:02:29.174Z"
   },
   {
    "duration": 83,
    "start_time": "2023-06-26T06:02:30.392Z"
   },
   {
    "duration": 6,
    "start_time": "2023-06-26T06:02:30.476Z"
   },
   {
    "duration": 34,
    "start_time": "2023-06-26T06:02:30.484Z"
   },
   {
    "duration": 27,
    "start_time": "2023-06-26T06:02:30.520Z"
   },
   {
    "duration": 46,
    "start_time": "2023-06-26T06:02:30.549Z"
   },
   {
    "duration": 30,
    "start_time": "2023-06-26T06:02:30.596Z"
   },
   {
    "duration": 27,
    "start_time": "2023-06-26T06:02:30.628Z"
   },
   {
    "duration": 36,
    "start_time": "2023-06-26T06:02:30.657Z"
   },
   {
    "duration": 43,
    "start_time": "2023-06-26T06:02:30.695Z"
   },
   {
    "duration": 45,
    "start_time": "2023-06-26T06:02:30.740Z"
   },
   {
    "duration": 51,
    "start_time": "2023-06-26T06:02:30.787Z"
   },
   {
    "duration": 85,
    "start_time": "2023-06-26T06:02:30.840Z"
   },
   {
    "duration": 133,
    "start_time": "2023-06-26T06:02:30.927Z"
   },
   {
    "duration": 288,
    "start_time": "2023-06-26T06:02:31.062Z"
   },
   {
    "duration": 32,
    "start_time": "2023-06-26T06:02:31.351Z"
   },
   {
    "duration": 16,
    "start_time": "2023-06-26T06:02:31.385Z"
   },
   {
    "duration": 142,
    "start_time": "2023-06-26T06:02:31.402Z"
   },
   {
    "duration": 104,
    "start_time": "2023-06-26T06:31:35.194Z"
   },
   {
    "duration": 4,
    "start_time": "2023-06-26T06:31:47.799Z"
   },
   {
    "duration": 48,
    "start_time": "2023-06-26T06:31:47.806Z"
   },
   {
    "duration": 8,
    "start_time": "2023-06-26T06:31:47.857Z"
   },
   {
    "duration": 33,
    "start_time": "2023-06-26T06:31:47.868Z"
   },
   {
    "duration": 10,
    "start_time": "2023-06-26T06:31:47.904Z"
   },
   {
    "duration": 44,
    "start_time": "2023-06-26T06:31:47.917Z"
   },
   {
    "duration": 38,
    "start_time": "2023-06-26T06:31:47.963Z"
   },
   {
    "duration": 8,
    "start_time": "2023-06-26T06:31:48.003Z"
   },
   {
    "duration": 25,
    "start_time": "2023-06-26T06:31:48.013Z"
   },
   {
    "duration": 8,
    "start_time": "2023-06-26T06:31:48.042Z"
   },
   {
    "duration": 26,
    "start_time": "2023-06-26T06:31:48.053Z"
   },
   {
    "duration": 20,
    "start_time": "2023-06-26T06:31:48.081Z"
   },
   {
    "duration": 29,
    "start_time": "2023-06-26T06:31:48.104Z"
   },
   {
    "duration": 113,
    "start_time": "2023-06-26T06:31:48.135Z"
   },
   {
    "duration": 332,
    "start_time": "2023-06-26T06:31:48.251Z"
   },
   {
    "duration": 31,
    "start_time": "2023-06-26T06:31:48.585Z"
   },
   {
    "duration": 15,
    "start_time": "2023-06-26T06:31:48.618Z"
   },
   {
    "duration": 24,
    "start_time": "2023-06-26T06:31:48.635Z"
   },
   {
    "duration": 174,
    "start_time": "2023-06-26T06:35:18.852Z"
   },
   {
    "duration": 298,
    "start_time": "2023-06-26T06:35:40.064Z"
   },
   {
    "duration": 4,
    "start_time": "2023-06-26T06:35:49.953Z"
   },
   {
    "duration": 64,
    "start_time": "2023-06-26T06:35:49.960Z"
   },
   {
    "duration": 6,
    "start_time": "2023-06-26T06:35:50.025Z"
   },
   {
    "duration": 53,
    "start_time": "2023-06-26T06:35:50.033Z"
   },
   {
    "duration": 37,
    "start_time": "2023-06-26T06:35:50.093Z"
   },
   {
    "duration": 74,
    "start_time": "2023-06-26T06:35:50.132Z"
   },
   {
    "duration": 9,
    "start_time": "2023-06-26T06:35:50.209Z"
   },
   {
    "duration": 25,
    "start_time": "2023-06-26T06:35:50.220Z"
   },
   {
    "duration": 11,
    "start_time": "2023-06-26T06:35:50.247Z"
   },
   {
    "duration": 35,
    "start_time": "2023-06-26T06:35:50.260Z"
   },
   {
    "duration": 6,
    "start_time": "2023-06-26T06:35:50.322Z"
   },
   {
    "duration": 23,
    "start_time": "2023-06-26T06:35:50.330Z"
   },
   {
    "duration": 25,
    "start_time": "2023-06-26T06:35:50.355Z"
   },
   {
    "duration": 83,
    "start_time": "2023-06-26T06:35:50.381Z"
   },
   {
    "duration": 287,
    "start_time": "2023-06-26T06:35:50.466Z"
   },
   {
    "duration": 48,
    "start_time": "2023-06-26T06:35:50.755Z"
   },
   {
    "duration": 17,
    "start_time": "2023-06-26T06:35:50.805Z"
   },
   {
    "duration": 11,
    "start_time": "2023-06-26T06:35:50.824Z"
   },
   {
    "duration": 308,
    "start_time": "2023-06-26T06:36:30.717Z"
   },
   {
    "duration": 1353,
    "start_time": "2023-06-26T06:50:42.054Z"
   },
   {
    "duration": 51,
    "start_time": "2023-06-26T06:50:43.409Z"
   },
   {
    "duration": 10,
    "start_time": "2023-06-26T06:50:43.462Z"
   },
   {
    "duration": 25,
    "start_time": "2023-06-26T06:50:43.474Z"
   },
   {
    "duration": 6,
    "start_time": "2023-06-26T06:50:43.508Z"
   },
   {
    "duration": 18,
    "start_time": "2023-06-26T06:50:43.518Z"
   },
   {
    "duration": 13,
    "start_time": "2023-06-26T06:50:43.538Z"
   },
   {
    "duration": 17,
    "start_time": "2023-06-26T06:50:43.553Z"
   },
   {
    "duration": 15,
    "start_time": "2023-06-26T06:50:43.573Z"
   },
   {
    "duration": 26,
    "start_time": "2023-06-26T06:50:43.590Z"
   },
   {
    "duration": 13,
    "start_time": "2023-06-26T06:50:43.619Z"
   },
   {
    "duration": 8,
    "start_time": "2023-06-26T06:50:43.634Z"
   },
   {
    "duration": 27,
    "start_time": "2023-06-26T06:50:43.644Z"
   },
   {
    "duration": 96,
    "start_time": "2023-06-26T06:50:43.677Z"
   },
   {
    "duration": 430,
    "start_time": "2023-06-26T06:50:43.783Z"
   },
   {
    "duration": 48,
    "start_time": "2023-06-26T06:50:44.224Z"
   },
   {
    "duration": 19,
    "start_time": "2023-06-26T06:50:44.275Z"
   },
   {
    "duration": 15,
    "start_time": "2023-06-26T06:50:44.296Z"
   },
   {
    "duration": 1046,
    "start_time": "2023-06-27T20:23:05.371Z"
   },
   {
    "duration": 180,
    "start_time": "2023-06-27T20:23:06.419Z"
   },
   {
    "duration": 5,
    "start_time": "2023-06-27T20:23:06.600Z"
   },
   {
    "duration": 37,
    "start_time": "2023-06-27T20:23:06.606Z"
   },
   {
    "duration": 21,
    "start_time": "2023-06-27T20:23:06.648Z"
   },
   {
    "duration": 10,
    "start_time": "2023-06-27T20:23:06.670Z"
   },
   {
    "duration": 12,
    "start_time": "2023-06-27T20:23:06.682Z"
   },
   {
    "duration": 4,
    "start_time": "2023-06-27T20:23:06.695Z"
   },
   {
    "duration": 10,
    "start_time": "2023-06-27T20:23:06.700Z"
   },
   {
    "duration": 38,
    "start_time": "2023-06-27T20:23:06.713Z"
   },
   {
    "duration": 13,
    "start_time": "2023-06-27T20:23:06.754Z"
   },
   {
    "duration": 9,
    "start_time": "2023-06-27T20:23:06.769Z"
   },
   {
    "duration": 7,
    "start_time": "2023-06-27T20:23:06.779Z"
   },
   {
    "duration": 84,
    "start_time": "2023-06-27T20:23:06.788Z"
   },
   {
    "duration": 244,
    "start_time": "2023-06-27T20:23:06.873Z"
   },
   {
    "duration": 44,
    "start_time": "2023-06-27T20:23:07.118Z"
   },
   {
    "duration": 10,
    "start_time": "2023-06-27T20:23:07.163Z"
   },
   {
    "duration": 8,
    "start_time": "2023-06-27T20:23:07.175Z"
   }
  ],
  "kernelspec": {
   "display_name": "Python 3 (ipykernel)",
   "language": "python",
   "name": "python3"
  },
  "language_info": {
   "codemirror_mode": {
    "name": "ipython",
    "version": 3
   },
   "file_extension": ".py",
   "mimetype": "text/x-python",
   "name": "python",
   "nbconvert_exporter": "python",
   "pygments_lexer": "ipython3",
   "version": "3.9.5"
  },
  "toc": {
   "base_numbering": 1,
   "nav_menu": {},
   "number_sections": true,
   "sideBar": true,
   "skip_h1_title": true,
   "title_cell": "Table of Contents",
   "title_sidebar": "Contents",
   "toc_cell": false,
   "toc_position": {
    "height": "calc(100% - 180px)",
    "left": "10px",
    "top": "150px",
    "width": "208.722px"
   },
   "toc_section_display": true,
   "toc_window_display": true
  }
 },
 "nbformat": 4,
 "nbformat_minor": 2
}
